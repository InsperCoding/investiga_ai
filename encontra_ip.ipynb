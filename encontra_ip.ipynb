{
 "cells": [
  {
   "cell_type": "code",
   "execution_count": 44,
   "id": "926b1392",
   "metadata": {},
   "outputs": [],
   "source": [
    "import fitz  # PyMuPDF\n",
    "from langchain.llms import Ollama\n",
    "from langchain.prompts import PromptTemplate\n",
    "from langchain.chains import LLMChain\n",
    "from langchain.text_splitter import RecursiveCharacterTextSplitter\n",
    "import os\n"
   ]
  },
  {
   "cell_type": "code",
   "execution_count": 13,
   "id": "c06446ed",
   "metadata": {},
   "outputs": [],
   "source": [
    "# 1. Ler Pdf\n",
    "def read_pdf_text(path):\n",
    "    doc = fitz.open(path)\n",
    "    text = \"\"\n",
    "    for page in doc:\n",
    "        text += page.get_text()\n",
    "    return text"
   ]
  },
  {
   "cell_type": "code",
   "execution_count": 14,
   "id": "05971a68",
   "metadata": {},
   "outputs": [],
   "source": [
    "# 2. Dividir o texto\n",
    "def split_text(text, chunk_size=1000, chunk_overlap=100):\n",
    "    text_splitter = RecursiveCharacterTextSplitter(\n",
    "        chunk_size=chunk_size,\n",
    "        chunk_overlap=chunk_overlap,\n",
    "    )\n",
    "    return text_splitter.split_text(text)"
   ]
  },
  {
   "cell_type": "code",
   "execution_count": 31,
   "id": "f15fa266",
   "metadata": {},
   "outputs": [],
   "source": [
    "# 3. LLM\n",
    "llm = Ollama(model=\"mistral\", temperature=0.0)"
   ]
  },
  {
   "cell_type": "code",
   "execution_count": 33,
   "id": "a49566a5",
   "metadata": {},
   "outputs": [],
   "source": [
    "# 4. Prompt\n",
    "prompt = PromptTemplate(\n",
    "    input_variables=[\"chunk\"],\n",
    "    # template=\"Extraia todos os endereços IP do seguinte texto:\\n\\n{chunk}\\n\\nSomente liste os IPs.\"\n",
    "    # template = \"Extract all IP addresses from the following text:\\n\\n{chunk}\\n\\nJust list the IPs. Organize them in a list, with one IP per line.\\n\\n You shouldn't return anything besides this list of IPs.\"\n",
    "    # template = \"\"\"\n",
    "    #             Extract all IP addresses from the following text:\n",
    "\n",
    "    #             {chunk}\n",
    "\n",
    "    #             Instructions:\n",
    "    #             - Identify and extract all valid IPv4 addresses from the provided text.\n",
    "    #             - Format the output as a list of IP addresses, with one IP per line.\n",
    "    #             - Ensure that the output contains only the IP addresses without any additional text or explanations.\n",
    "    #             - Return only the list (as a python list) of extracted IP addresses.\n",
    "    #             - Format the output as one IP per line.\n",
    "    #             - Do not include any additional text or explanations—only the IPs.\n",
    "    #         \"\"\"\n",
    "    template = \"\"\"\n",
    "                You must extract all IP addresses from the following text:\n",
    "\n",
    "                {chunk}\n",
    "\n",
    "                Rules:\n",
    "                1. Return ONLY the list of IP addresses.\n",
    "                2. Each IP must be on a separate line.\n",
    "                3. Do NOT include any explanation, label, bullet point, or formatting—just raw IP addresses.\n",
    "                4. Do NOT return anything other than the IPs. No intros, no summaries.\n",
    "\n",
    "                If you do not follow these rules, your output will be discarded.\n",
    "    \n",
    "            \"\"\"\n",
    ")\n",
    "\n",
    "chain = LLMChain(llm=llm, prompt=prompt)"
   ]
  },
  {
   "cell_type": "code",
   "execution_count": 36,
   "id": "cdae7e2b",
   "metadata": {},
   "outputs": [],
   "source": [
    "import re\n",
    "\n",
    "def extract_valid_ips(text):\n",
    "    return re.findall(r'\\b(?:\\d{1,3}\\.){3}\\d{1,3}\\b', text)"
   ]
  },
  {
   "cell_type": "code",
   "execution_count": 37,
   "id": "ff541d21",
   "metadata": {},
   "outputs": [],
   "source": [
    "# 5. Juntar tudo\n",
    "def extract_ips_from_pdf(pdf_path):\n",
    "    text = read_pdf_text(pdf_path)\n",
    "    chunks = split_text(text)\n",
    "    ips = []\n",
    "    for chunk in chunks:\n",
    "        result = chain.run(chunk)\n",
    "        ips.append(result.strip())\n",
    "        # Inside the loop:\n",
    "        for chunk in chunks:\n",
    "            result = chain.run(chunk)\n",
    "            ips += extract_valid_ips(result)\n",
    "    return \"\\n\".join(ips)"
   ]
  },
  {
   "cell_type": "code",
   "execution_count": 42,
   "id": "d6c6af14",
   "metadata": {},
   "outputs": [
    {
     "name": "stdout",
     "output_type": "stream",
     "text": [
      "\n",
      "IPs extraídos:\n",
      "\n",
      "100000000000000\n",
      "   (This is the only IP address found in the provided text)\n",
      "111.11.111.111\n",
      "111.11.111.1\n",
      "111.11.111.11\n",
      "111.11.111.11\n",
      "111.11.111.11\n",
      "111.11.111.11\n",
      "111.11.111.11\n",
      "111.11.111.11\n",
      "111.11.111.11\n",
      "111.11.111.11\n",
      "111.11.111.11\n",
      "111.11.111.1\n",
      "111.11.111.11\n",
      "111.11.111.1\n",
      "111.11.111.1\n",
      "111.11.111.1\n",
      "111.11.111.1\n",
      "111.11.111.1\n",
      "111.11.111.1\n",
      "111.11.111.1\n",
      "111.11.111.111\n",
      "  1111:11d:1e11:11bc:bc11:1111:11ba:4e11\n",
      "  111.11.111.1\n",
      "  111.11.111.11\n",
      "  111.11.111.11\n",
      "  111.11.111.11\n",
      "  111.11.111.11\n",
      "  111.11.111.11\n",
      "  111.11.111.11\n",
      "  111.11.111.11\n",
      "  111.11.111.11\n",
      "111.11.111.111\n",
      "111.11.111.1\n",
      "111.11.111.11\n",
      "111.11.111.11\n",
      "111.11.111.11\n",
      "111.11.111.11\n",
      "111.11.111.11\n",
      "111.11.111.11\n",
      "111.11.111.11\n",
      "111.11.111.11\n",
      "111.11.111.11\n",
      "111.11.111.1\n",
      "111.11.111.11\n",
      "111.11.111.1\n",
      "111.11.111.1\n",
      "111.11.111.1\n",
      "111.11.111.1\n",
      "111.11.111.1\n",
      "111.11.111.1\n",
      "111.11.111.1\n",
      "111.11.111.11\n",
      "  111.11.111.1\n",
      "  111.11.111.11\n",
      "  111.11.111.1\n",
      "  1111:11d:1e11:11bc:bc11:1111:11ba:4e11\n",
      "  111.11.111.1\n",
      "  111.11.111.1\n",
      "  111.11.111.1\n",
      "  111.11.111.1\n",
      "  111.11.111.1\n",
      "  111.11.111.1\n",
      "111.11.111.111\n",
      "111.11.111.1\n",
      "111.11.111.11\n",
      "111.11.111.11\n",
      "111.11.111.11\n",
      "111.11.111.11\n",
      "111.11.111.11\n",
      "111.11.111.11\n",
      "111.11.111.11\n",
      "111.11.111.11\n",
      "111.11.111.11\n",
      "111.11.111.1\n",
      "111.11.111.11\n",
      "111.11.111.1\n",
      "111.11.111.1\n",
      "111.11.111.1\n",
      "111.11.111.1\n",
      "111.11.111.1\n",
      "111.11.111.1\n",
      "111.11.111.1\n"
     ]
    }
   ],
   "source": [
    "caminho_pdf = \"modelo operadora3.pdf\"\n",
    "ips_encontrados = extract_ips_from_pdf(caminho_pdf)\n",
    "print(\"\\nIPs extraídos:\\n\")\n",
    "print(ips_encontrados)"
   ]
  },
  {
   "cell_type": "code",
   "execution_count": 43,
   "id": "b4fc7887",
   "metadata": {},
   "outputs": [
    {
     "name": "stdout",
     "output_type": "stream",
     "text": [
      "IPv4 Addresses:\n",
      "['111.11.111.1', '111.11.111.11', '111.11.111.111']\n",
      "\n",
      "IPv6 Addresses:\n",
      "['1111:11d:1e11:11bc:bc11:1111:11ba:4e11']\n"
     ]
    }
   ],
   "source": [
    "raw_text = ips_encontrados\n",
    "\n",
    "# Regex for valid IPv4 addresses\n",
    "ipv4_pattern = r'\\b(?:\\d{1,3}\\.){3}\\d{1,3}\\b'\n",
    "\n",
    "# Regex for valid IPv6 addresses (simple version)\n",
    "ipv6_pattern = r'\\b(?:[a-fA-F0-9]{1,4}:){7}[a-fA-F0-9]{1,4}\\b'\n",
    "\n",
    "# Find all matches\n",
    "ipv4_list = re.findall(ipv4_pattern, raw_text)\n",
    "ipv6_list = re.findall(ipv6_pattern, raw_text)\n",
    "\n",
    "# Remove duplicates and sort\n",
    "unique_ipv4 = sorted(set(ipv4_list))\n",
    "unique_ipv6 = sorted(set(ipv6_list))\n",
    "\n",
    "# Output\n",
    "print(\"IPv4 Addresses:\")\n",
    "print(unique_ipv4)\n",
    "\n",
    "print(\"\\nIPv6 Addresses:\")\n",
    "print(unique_ipv6)"
   ]
  },
  {
   "cell_type": "code",
   "execution_count": 45,
   "id": "e26a2fef",
   "metadata": {},
   "outputs": [
    {
     "name": "stdout",
     "output_type": "stream",
     "text": [
      "✅ IPs combinados e salvos em: modelo operadora3_ips.txt\n"
     ]
    }
   ],
   "source": [
    "# Get the filename without extension\n",
    "base_name = os.path.splitext(caminho_pdf)[0]\n",
    "# Combina as duas listas e remove duplicatas\n",
    "combined_ips = list(set(ipv4_list + ipv6_list))\n",
    "\n",
    "# Gera o nome do arquivo de saída baseado no nome do PDF\n",
    "base_name = os.path.splitext(caminho_pdf)[0]\n",
    "txt_filename = f\"{base_name}_ips.txt\"\n",
    "\n",
    "# Salva os IPs no arquivo\n",
    "with open(txt_filename, \"w\") as f:\n",
    "    for ip in combined_ips:\n",
    "        f.write(f\"{ip}\\n\")\n",
    "\n",
    "print(f\"✅ IPs combinados e salvos em: {txt_filename}\")"
   ]
  }
 ],
 "metadata": {
  "kernelspec": {
   "display_name": "investiga_ia",
   "language": "python",
   "name": "python3"
  },
  "language_info": {
   "codemirror_mode": {
    "name": "ipython",
    "version": 3
   },
   "file_extension": ".py",
   "mimetype": "text/x-python",
   "name": "python",
   "nbconvert_exporter": "python",
   "pygments_lexer": "ipython3",
   "version": "3.11.9"
  }
 },
 "nbformat": 4,
 "nbformat_minor": 5
}
