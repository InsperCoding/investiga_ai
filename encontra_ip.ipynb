{
 "cells": [
  {
   "cell_type": "code",
   "execution_count": 23,
   "id": "926b1392",
   "metadata": {},
   "outputs": [],
   "source": [
    "import fitz  # PyMuPDF\n",
    "from langchain.llms import Ollama\n",
    "from langchain.prompts import PromptTemplate\n",
    "from langchain.chains import LLMChain\n",
    "from langchain.text_splitter import RecursiveCharacterTextSplitter\n",
    "import os\n"
   ]
  },
  {
   "cell_type": "code",
   "execution_count": 20,
   "id": "c06446ed",
   "metadata": {},
   "outputs": [],
   "source": [
    "# 1. Ler Pdf\n",
    "def read_pdf_text(path):\n",
    "    doc = fitz.open(path)\n",
    "    text = \"\"\n",
    "    for page in doc:\n",
    "        text += page.get_text()\n",
    "    return text"
   ]
  },
  {
   "cell_type": "code",
   "execution_count": 21,
   "id": "05971a68",
   "metadata": {},
   "outputs": [],
   "source": [
    "# 2. Dividir o texto\n",
    "def split_text(text, chunk_size=1000, chunk_overlap=100):\n",
    "    text_splitter = RecursiveCharacterTextSplitter(\n",
    "        chunk_size=chunk_size,\n",
    "        chunk_overlap=chunk_overlap,\n",
    "    )\n",
    "    return text_splitter.split_text(text)"
   ]
  },
  {
   "cell_type": "code",
   "execution_count": 24,
   "id": "f15fa266",
   "metadata": {},
   "outputs": [
    {
     "name": "stderr",
     "output_type": "stream",
     "text": [
      "C:\\Users\\Prady\\AppData\\Local\\Temp\\ipykernel_35324\\1385775398.py:2: LangChainDeprecationWarning: The class `Ollama` was deprecated in LangChain 0.3.1 and will be removed in 1.0.0. An updated version of the class exists in the :class:`~langchain-ollama package and should be used instead. To use it run `pip install -U :class:`~langchain-ollama` and import as `from :class:`~langchain_ollama import OllamaLLM``.\n",
      "  llm = Ollama(model=\"mistral\", temperature=0.0)\n"
     ]
    }
   ],
   "source": [
    "# 3. LLM\n",
    "llm = Ollama(model=\"mistral\", temperature=0.0)"
   ]
  },
  {
   "cell_type": "code",
   "execution_count": 25,
   "id": "a49566a5",
   "metadata": {},
   "outputs": [
    {
     "name": "stderr",
     "output_type": "stream",
     "text": [
      "C:\\Users\\Prady\\AppData\\Local\\Temp\\ipykernel_35324\\2402736738.py:20: LangChainDeprecationWarning: The class `LLMChain` was deprecated in LangChain 0.1.17 and will be removed in 1.0. Use :meth:`~RunnableSequence, e.g., `prompt | llm`` instead.\n",
      "  chain = LLMChain(llm=llm, prompt=prompt)\n"
     ]
    }
   ],
   "source": [
    "# 4. Prompt\n",
    "prompt = PromptTemplate(\n",
    "    input_variables=[\"chunk\"],\n",
    "    template = \"\"\"\n",
    "                You must extract all IP addresses from the following text:\n",
    "\n",
    "                {chunk}\n",
    "\n",
    "                Rules:\n",
    "                1. Return ONLY the list of IP addresses.\n",
    "                2. Each IP must be on a separate line.\n",
    "                3. Do NOT include any explanation, label, bullet point, or formatting—just raw IP addresses.\n",
    "                4. Do NOT return anything other than the IPs. No intros, no summaries.\n",
    "\n",
    "                If you do not follow these rules, your output will be discarded.\n",
    "    \n",
    "            \"\"\"\n",
    ")\n",
    "\n",
    "chain = LLMChain(llm=llm, prompt=prompt)"
   ]
  },
  {
   "cell_type": "code",
   "execution_count": 29,
   "id": "cdae7e2b",
   "metadata": {},
   "outputs": [],
   "source": [
    "import re\n",
    "\n",
    "def extract_valid_ips(text):\n",
    "    return re.findall(r'\\b(?:\\d{1,3}\\.){3}\\d{1,3}\\b', text)"
   ]
  },
  {
   "cell_type": "code",
   "execution_count": 30,
   "id": "ff541d21",
   "metadata": {},
   "outputs": [],
   "source": [
    "# 5. Juntar tudo\n",
    "def extract_ips_from_pdf(pdf_path):\n",
    "    text = read_pdf_text(pdf_path)\n",
    "    chunks = split_text(text)\n",
    "    ips = []\n",
    "    for chunk in chunks:\n",
    "        result = chain.run(chunk)\n",
    "        ips.append(result.strip())\n",
    "        # Inside the loop:\n",
    "        for chunk in chunks:\n",
    "            result = chain.run(chunk)\n",
    "            ips += extract_valid_ips(result)\n",
    "    return \"\\n\".join(ips)"
   ]
  },
  {
   "cell_type": "code",
   "execution_count": 31,
   "id": "d6c6af14",
   "metadata": {},
   "outputs": [
    {
     "name": "stdout",
     "output_type": "stream",
     "text": [
      "\n",
      "IPs extraídos:\n",
      "\n",
      "100000000000000\n",
      "   (This is the only IP address found in the provided text)\n",
      "111.11.111.111\n",
      "111.11.111.1\n",
      "111.11.111.11\n",
      "111.11.111.11\n",
      "111.11.111.11\n",
      "111.11.111.11\n",
      "111.11.111.11\n",
      "111.11.111.11\n",
      "111.11.111.11\n",
      "111.11.111.11\n",
      "111.11.111.11\n",
      "111.11.111.1\n",
      "111.11.111.11\n",
      "111.11.111.1\n",
      "111.11.111.1\n",
      "111.11.111.1\n",
      "111.11.111.1\n",
      "111.11.111.1\n",
      "111.11.111.1\n",
      "111.11.111.1\n",
      "111.11.111.111\n",
      "  1111:11d:1e11:11bc:bc11:1111:11ba:4e11\n",
      "  111.11.111.1\n",
      "  111.11.111.11\n",
      "  111.11.111.11\n",
      "  111.11.111.11\n",
      "  111.11.111.11\n",
      "  111.11.111.11\n",
      "  111.11.111.11\n",
      "  111.11.111.11\n",
      "  111.11.111.11\n",
      "111.11.111.111\n",
      "111.11.111.1\n",
      "111.11.111.11\n",
      "111.11.111.11\n",
      "111.11.111.11\n",
      "111.11.111.11\n",
      "111.11.111.11\n",
      "111.11.111.11\n",
      "111.11.111.11\n",
      "111.11.111.11\n",
      "111.11.111.11\n",
      "111.11.111.1\n",
      "111.11.111.11\n",
      "111.11.111.1\n",
      "111.11.111.1\n",
      "111.11.111.1\n",
      "111.11.111.1\n",
      "111.11.111.1\n",
      "111.11.111.1\n",
      "111.11.111.1\n",
      "111.11.111.11\n",
      "  111.11.111.1\n",
      "  111.11.111.11\n",
      "  111.11.111.1\n",
      "  1111:11d:1e11:11bc:bc11:1111:11ba:4e11\n",
      "  111.11.111.1\n",
      "  111.11.111.1\n",
      "  111.11.111.1\n",
      "  111.11.111.1\n",
      "  111.11.111.1\n",
      "  111.11.111.1\n",
      "111.11.111.111\n",
      "111.11.111.1\n",
      "111.11.111.11\n",
      "111.11.111.11\n",
      "111.11.111.11\n",
      "111.11.111.11\n",
      "111.11.111.11\n",
      "111.11.111.11\n",
      "111.11.111.11\n",
      "111.11.111.11\n",
      "111.11.111.11\n",
      "111.11.111.1\n",
      "111.11.111.11\n",
      "111.11.111.1\n",
      "111.11.111.1\n",
      "111.11.111.1\n",
      "111.11.111.1\n",
      "111.11.111.1\n",
      "111.11.111.1\n",
      "111.11.111.1\n"
     ]
    }
   ],
   "source": [
    "caminho_pdf = \"modelo operadora3.pdf\"\n",
    "ips_encontrados = extract_ips_from_pdf(caminho_pdf)\n",
    "print(\"\\nIPs extraídos:\\n\")\n",
    "print(ips_encontrados)"
   ]
  },
  {
   "cell_type": "code",
   "execution_count": 32,
   "id": "b4fc7887",
   "metadata": {},
   "outputs": [
    {
     "name": "stdout",
     "output_type": "stream",
     "text": [
      "IPv4 Addresses:\n",
      "['111.11.111.1', '111.11.111.11', '111.11.111.111']\n",
      "\n",
      "IPv6 Addresses:\n",
      "['1111:11d:1e11:11bc:bc11:1111:11ba:4e11']\n"
     ]
    }
   ],
   "source": [
    "raw_text = ips_encontrados\n",
    "\n",
    "# Regex for valid IPv4 addresses\n",
    "ipv4_pattern = r'\\b(?:\\d{1,3}\\.){3}\\d{1,3}\\b'\n",
    "\n",
    "# Regex for valid IPv6 addresses (simple version)\n",
    "ipv6_pattern = r'\\b(?:[a-fA-F0-9]{1,4}:){7}[a-fA-F0-9]{1,4}\\b'\n",
    "\n",
    "# Find all matches\n",
    "ipv4_list = re.findall(ipv4_pattern, raw_text)\n",
    "ipv6_list = re.findall(ipv6_pattern, raw_text)\n",
    "\n",
    "# Remove duplicates and sort\n",
    "unique_ipv4 = sorted(set(ipv4_list))\n",
    "unique_ipv6 = sorted(set(ipv6_list))\n",
    "\n",
    "# Output\n",
    "print(\"IPv4 Addresses:\")\n",
    "print(unique_ipv4)\n",
    "\n",
    "print(\"\\nIPv6 Addresses:\")\n",
    "print(unique_ipv6)"
   ]
  },
  {
   "cell_type": "code",
   "execution_count": 33,
   "id": "e26a2fef",
   "metadata": {},
   "outputs": [
    {
     "name": "stdout",
     "output_type": "stream",
     "text": [
      "✅ IPs combinados e salvos em: modelo operadora3_ips.txt\n"
     ]
    }
   ],
   "source": [
    "# Get the filename without extension\n",
    "base_name = os.path.splitext(caminho_pdf)[0]\n",
    "# Combina as duas listas e remove duplicatas\n",
    "combined_ips = list(set(ipv4_list + ipv6_list))\n",
    "\n",
    "# Gera o nome do arquivo de saída baseado no nome do PDF\n",
    "base_name = os.path.splitext(caminho_pdf)[0]\n",
    "txt_filename = f\"{base_name}_ips.txt\"\n",
    "\n",
    "# Salva os IPs no arquivo\n",
    "with open(txt_filename, \"w\") as f:\n",
    "    for ip in combined_ips:\n",
    "        f.write(f\"{ip}\\n\")\n",
    "\n",
    "print(f\"✅ IPs combinados e salvos em: {txt_filename}\")"
   ]
  },
  {
   "cell_type": "code",
   "execution_count": 34,
   "id": "fd1eee59",
   "metadata": {},
   "outputs": [
    {
     "data": {
      "text/plain": [
       "['1111:11d:1e11:11bc:bc11:1111:11ba:4e11',\n",
       " '111.11.111.111',\n",
       " '111.11.111.1',\n",
       " '111.11.111.11']"
      ]
     },
     "execution_count": 34,
     "metadata": {},
     "output_type": "execute_result"
    }
   ],
   "source": [
    "combined_ips"
   ]
  },
  {
   "cell_type": "code",
   "execution_count": 2,
   "id": "ea39f014",
   "metadata": {},
   "outputs": [
    {
     "name": "stdout",
     "output_type": "stream",
     "text": [
      "❌ Falha ao consultar {'ip': '111.11.111.111', 'proxy': False, 'mobile': True, 'country': 'China', 'city': 'Shijiazhuang', 'hosting': False, 'org': 'China Mobile', 'regionName': 'Hebei'}: erro desconhecido\n",
      "\n",
      "✅ Consulta finalizada! Resultado salvo em: resultado_consulta_ips.csv\n"
     ]
    }
   ],
   "source": [
    "import requests\n",
    "import pandas as pd\n",
    "\n",
    "# Lista para armazenar os dados de cada IP\n",
    "ips = [\"111.11.111.111\"]\n",
    "# ips = [\"8.8.8.8\", \"1.1.1.1\"]\n",
    "\n",
    "\n",
    "dados = ips\n",
    "\n",
    "# Loop pelos IPs\n",
    "for ip in ips:\n",
    "    try:\n",
    "        url = f\"http://ip-api.com/json/{ip}?fields=status,proxy,mobile,country,city,hosting,org,regionName\"\n",
    "        response = requests.get(url)\n",
    "        info = response.json()\n",
    "\n",
    "        if info['status'] == 'success':\n",
    "            dados.append({\n",
    "                \"ip\": ip,\n",
    "                \"proxy\": info.get(\"proxy\"),\n",
    "                \"mobile\": info.get(\"mobile\"),\n",
    "                \"country\": info.get(\"country\"),\n",
    "                \"city\": info.get(\"city\"),\n",
    "                \"hosting\": info.get(\"hosting\"),\n",
    "                \"org\": info.get(\"org\"),\n",
    "                \"regionName\": info.get(\"regionName\")\n",
    "            })\n",
    "        else:\n",
    "            print(f\"❌ Falha ao consultar {ip}: {info.get('message', 'erro desconhecido')}\")\n",
    "\n",
    "    except Exception as e:\n",
    "        print(f\"⚠️ Erro ao consultar {ip}: {e}\")\n",
    "\n",
    "# Cria um DataFrame com os resultados\n",
    "df = pd.DataFrame(dados)\n",
    "\n",
    "# Salva em CSV\n",
    "output_csv = \"resultado_consulta_ips.csv\"\n",
    "df.to_csv(output_csv, index=False)\n",
    "\n",
    "print(f\"\\n✅ Consulta finalizada! Resultado salvo em: {output_csv}\")\n"
   ]
  },
  {
   "cell_type": "code",
   "execution_count": 3,
   "id": "c107b4ae",
   "metadata": {},
   "outputs": [
    {
     "name": "stdout",
     "output_type": "stream",
     "text": [
      "IP: 111.11.111.111\n",
      "Malicioso: 0\n",
      "Suspeito: 0\n"
     ]
    },
    {
     "data": {
      "text/plain": [
       "{'malicious': 0,\n",
       " 'suspicious': 0,\n",
       " 'undetected': 33,\n",
       " 'harmless': 61,\n",
       " 'timeout': 0}"
      ]
     },
     "execution_count": 3,
     "metadata": {},
     "output_type": "execute_result"
    }
   ],
   "source": [
    "import requests\n",
    "\n",
    "def checar_ip_virustotal(ip, api_key):\n",
    "    url = f\"https://www.virustotal.com/api/v3/ip_addresses/{ip}\"\n",
    "    headers = {\n",
    "        \"x-apikey\": api_key\n",
    "    }\n",
    "\n",
    "    response = requests.get(url, headers=headers)\n",
    "\n",
    "    if response.status_code == 200:\n",
    "        data = response.json()\n",
    "        stats = data['data']['attributes']['last_analysis_stats']\n",
    "        malicioso = stats.get(\"malicious\", 0)\n",
    "        suspeito = stats.get(\"suspicious\", 0)\n",
    "\n",
    "        print(f\"IP: {ip}\")\n",
    "        print(f\"Malicioso: {malicioso}\")\n",
    "        print(f\"Suspeito: {suspeito}\")\n",
    "        return stats\n",
    "    else:\n",
    "        print(f\"Erro na requisição: {response.status_code}\")\n",
    "        return None\n",
    "\n",
    "# Exemplo de uso:\n",
    "API_KEY = \"0599ef2145a358f649a363038cf91418a51934b4f95e4c0ce06a49060c3086ca\"\n",
    "checar_ip_virustotal(\"111.11.111.111\", API_KEY)\n"
   ]
  },
  {
   "cell_type": "code",
   "execution_count": 14,
   "id": "998079a6",
   "metadata": {},
   "outputs": [
    {
     "data": {
      "text/plain": [
       "169"
      ]
     },
     "execution_count": 14,
     "metadata": {},
     "output_type": "execute_result"
    }
   ],
   "source": [
    "326+90-(110+30+17+90)"
   ]
  },
  {
   "cell_type": "code",
   "execution_count": 37,
   "id": "25697a36",
   "metadata": {},
   "outputs": [
    {
     "data": {
      "text/plain": [
       "['1111:11d:1e11:11bc:bc11:1111:11ba:4e11',\n",
       " '111.11.111.111',\n",
       " '111.11.111.1',\n",
       " '111.11.111.11']"
      ]
     },
     "execution_count": 37,
     "metadata": {},
     "output_type": "execute_result"
    }
   ],
   "source": [
    "combined_ips"
   ]
  },
  {
   "cell_type": "code",
   "execution_count": null,
   "id": "1477e47d",
   "metadata": {},
   "outputs": [
    {
     "name": "stdout",
     "output_type": "stream",
     "text": [
      "Processo concluído! Resultados salvos em 'Resultados_WHOIS.xlsx'\n"
     ]
    }
   ],
   "source": [
    "from selenium import webdriver\n",
    "from selenium.webdriver.common.by import By\n",
    "from selenium.webdriver.common.keys import Keys\n",
    "import pandas as pd\n",
    "import time\n",
    "\n",
    "# Defina aqui sua lista de IPs diretamente\n",
    "lista_ips = combined_ips\n",
    "\n",
    "# Lista para armazenar os resultados\n",
    "resultados = []\n",
    "\n",
    "# Iniciar o navegador (apenas uma vez)\n",
    "navegador = webdriver.Chrome()\n",
    "navegador.get('https://registro.br/tecnologia/ferramentas/whois?search=')\n",
    "navegador.maximize_window()\n",
    "\n",
    "for ip in lista_ips:\n",
    "    try:\n",
    "        # Localizar a caixa de pesquisa\n",
    "        box = navegador.find_element(By.ID, 'whois-field')\n",
    "\n",
    "        # Clicar e limpar o campo de pesquisa\n",
    "        box.click()\n",
    "        box.clear()\n",
    "        time.sleep(1)\n",
    "\n",
    "        # Digitar o IP e pressionar Enter\n",
    "        box.send_keys(ip)\n",
    "        time.sleep(2)\n",
    "        box.send_keys(Keys.RETURN)\n",
    "        time.sleep(3)  # Esperar a página carregar\n",
    "\n",
    "        # Capturar o dono do IP\n",
    "        try:\n",
    "            dono = navegador.find_element(By.CLASS_NAME, 'cell-owner')  # Verifique se essa classe está correta\n",
    "            texto_extraido = dono.text.strip()\n",
    "\n",
    "            # Se o texto extraído estiver vazio, definir como \"Nenhuma informação encontrada\"\n",
    "            if not texto_extraido:\n",
    "                texto_extraido = \"Nenhuma informação encontrada\"\n",
    "        except Exception:\n",
    "            texto_extraido = \"Nenhuma informação encontrada\"\n",
    "\n",
    "        # Adicionar resultado à lista\n",
    "        resultados.append({\"IP\": ip, \"Dono\": texto_extraido})\n",
    "\n",
    "    except Exception as e:\n",
    "        print(f\"Erro ao pesquisar {ip}: {e}\")\n",
    "\n",
    "# Fechar o navegador (apenas no final)\n",
    "navegador.quit()\n",
    "\n",
    "# Salvar os resultados em uma planilha\n",
    "df_resultados = pd.DataFrame(resultados)\n",
    "df_resultados.to_excel(\"Resultados_WHOIS.xlsx\", index=False)\n",
    "\n",
    "print(\"Processo concluído! Resultados salvos em 'Resultados_WHOIS.xlsx'\")\n"
   ]
  },
  {
   "cell_type": "code",
   "execution_count": null,
   "id": "427c2dc3",
   "metadata": {},
   "outputs": [],
   "source": []
  }
 ],
 "metadata": {
  "kernelspec": {
   "display_name": "investiga_ia",
   "language": "python",
   "name": "python3"
  },
  "language_info": {
   "codemirror_mode": {
    "name": "ipython",
    "version": 3
   },
   "file_extension": ".py",
   "mimetype": "text/x-python",
   "name": "python",
   "nbconvert_exporter": "python",
   "pygments_lexer": "ipython3",
   "version": "3.11.9"
  }
 },
 "nbformat": 4,
 "nbformat_minor": 5
}
