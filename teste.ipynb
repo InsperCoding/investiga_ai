{
 "cells": [
  {
   "cell_type": "code",
   "execution_count": 4,
   "id": "926b1392",
   "metadata": {},
   "outputs": [],
   "source": [
    "import fitz  # PyMuPDF\n",
    "from langchain.llms import Ollama\n",
    "from langchain.prompts import PromptTemplate\n",
    "from langchain.chains import LLMChain\n",
    "from langchain.text_splitter import RecursiveCharacterTextSplitter"
   ]
  },
  {
   "cell_type": "code",
   "execution_count": 6,
   "id": "c06446ed",
   "metadata": {},
   "outputs": [],
   "source": [
    "# 1. Ler Pdf\n",
    "def read_pdf_text(path):\n",
    "    doc = fitz.open(path)\n",
    "    text = \"\"\n",
    "    for page in doc:\n",
    "        text += page.get_text()\n",
    "    return text"
   ]
  },
  {
   "cell_type": "code",
   "execution_count": null,
   "id": "05971a68",
   "metadata": {},
   "outputs": [],
   "source": [
    "# 2. Dividir o texto\n",
    "def split_text(text, chunk_size=1000, chunk_overlap=100):\n",
    "    text_splitter = RecursiveCharacterTextSplitter(\n",
    "        chunk_size=chunk_size,\n",
    "        chunk_overlap=chunk_overlap,\n",
    "    )\n",
    "    return text_splitter.split_text(text)"
   ]
  },
  {
   "cell_type": "code",
   "execution_count": 8,
   "id": "f15fa266",
   "metadata": {},
   "outputs": [
    {
     "name": "stderr",
     "output_type": "stream",
     "text": [
      "C:\\Users\\Prady\\AppData\\Local\\Temp\\ipykernel_22316\\3962171100.py:2: LangChainDeprecationWarning: The class `Ollama` was deprecated in LangChain 0.3.1 and will be removed in 1.0.0. An updated version of the class exists in the :class:`~langchain-ollama package and should be used instead. To use it run `pip install -U :class:`~langchain-ollama` and import as `from :class:`~langchain_ollama import OllamaLLM``.\n",
      "  llm = Ollama(model=\"mistral\")\n"
     ]
    }
   ],
   "source": [
    "# 3. LLM\n",
    "llm = Ollama(model=\"mistral\")"
   ]
  },
  {
   "cell_type": "code",
   "execution_count": 11,
   "id": "a49566a5",
   "metadata": {},
   "outputs": [],
   "source": [
    "# 4. Prompt\n",
    "prompt = PromptTemplate(\n",
    "    input_variables=[\"chunk\"],\n",
    "    template=\"Extraia todos os endereços IP do seguinte texto:\\n\\n{chunk}\\n\\nSomente liste os IPs.\"\n",
    ")\n",
    "\n",
    "chain = LLMChain(llm=llm, prompt=prompt)"
   ]
  },
  {
   "cell_type": "code",
   "execution_count": null,
   "id": "f8306bf6",
   "metadata": {},
   "outputs": [
    {
     "name": "stderr",
     "output_type": "stream",
     "text": [
      "C:\\Users\\Prady\\AppData\\Local\\Temp\\ipykernel_22316\\1305865249.py:1: LangChainDeprecationWarning: The class `LLMChain` was deprecated in LangChain 0.1.17 and will be removed in 1.0. Use :meth:`~RunnableSequence, e.g., `prompt | llm`` instead.\n",
      "  chain = LLMChain(llm=llm, prompt=prompt)\n"
     ]
    }
   ],
   "source": [
    "chain = LLMChain(llm=llm, prompt=prompt)"
   ]
  },
  {
   "cell_type": "code",
   "execution_count": 12,
   "id": "ff541d21",
   "metadata": {},
   "outputs": [],
   "source": [
    "# 5. Juntar tudo\n",
    "def extract_ips_from_pdf(pdf_path):\n",
    "    text = read_pdf_text(pdf_path)\n",
    "    chunks = split_text(text)\n",
    "    ips = []\n",
    "    for chunk in chunks:\n",
    "        result = chain.run(chunk)\n",
    "        ips.append(result.strip())\n",
    "    return \"\\n\".join(ips)"
   ]
  },
  {
   "cell_type": "code",
   "execution_count": 14,
   "id": "d6c6af14",
   "metadata": {},
   "outputs": [
    {
     "name": "stderr",
     "output_type": "stream",
     "text": [
      "C:\\Users\\Prady\\AppData\\Local\\Temp\\ipykernel_22316\\1004924514.py:7: LangChainDeprecationWarning: The method `Chain.run` was deprecated in langchain 0.1.0 and will be removed in 1.0. Use :meth:`~invoke` instead.\n",
      "  result = chain.run(chunk)\n"
     ]
    },
    {
     "name": "stdout",
     "output_type": "stream",
     "text": [
      "\n",
      "IPs extraídos:\n",
      "\n",
      "1101:11:11a:0a111:0:a11:aa11\n",
      "1101:11:11a:0a111:0:a11:aa11\n",
      "1101:11:11a:0a111:0:a11:aa11\n",
      "1101:11:11a:0a111:0:a11:aa11\n",
      "1101:11:11a:0a111:0:a11:aa11\n",
      "1101:11:11a:0a111:0:a11:aa11\n",
      "1101:11:11a:0a111:0:a11:aa11\n",
      "1101:11:11a:0a111:0:a11:aa11\n",
      "1101:11:11a:0a111:0:a11:aa11\n",
      "1101:11:11a:0a111:0:a11:aa11\n",
      "1101:11:11a:0a111:0:a11:aa11\n"
     ]
    }
   ],
   "source": [
    "caminho_pdf = \"modelo operadora2.pdf\"\n",
    "ips_encontrados = extract_ips_from_pdf(caminho_pdf)\n",
    "print(\"\\nIPs extraídos:\\n\")\n",
    "print(ips_encontrados)"
   ]
  }
 ],
 "metadata": {
  "kernelspec": {
   "display_name": "investiga_ia",
   "language": "python",
   "name": "python3"
  },
  "language_info": {
   "codemirror_mode": {
    "name": "ipython",
    "version": 3
   },
   "file_extension": ".py",
   "mimetype": "text/x-python",
   "name": "python",
   "nbconvert_exporter": "python",
   "pygments_lexer": "ipython3",
   "version": "3.11.9"
  }
 },
 "nbformat": 4,
 "nbformat_minor": 5
}
