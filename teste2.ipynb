{
 "cells": [
  {
   "cell_type": "code",
   "execution_count": 32,
   "id": "8267cece",
   "metadata": {},
   "outputs": [],
   "source": [
    "import pandas as pd\n",
    "import re\n",
    "import fitz\n",
    "from langchain.chat_models import ChatOpenAI\n",
    "from langchain_core.prompts import PromptTemplate\n",
    "from langchain.text_splitter import RecursiveCharacterTextSplitter\n",
    "from langchain_core.runnables import RunnableSequence\n",
    "from dotenv import load_dotenv\n",
    "import os"
   ]
  },
  {
   "cell_type": "code",
   "execution_count": 24,
   "id": "9fe1f982",
   "metadata": {},
   "outputs": [],
   "source": [
    "llm = ChatOpenAI(model=\"gpt-3.5-turbo\", temperature=0.0)"
   ]
  },
  {
   "cell_type": "code",
   "execution_count": 25,
   "id": "c66c6012",
   "metadata": {},
   "outputs": [],
   "source": [
    "prompt = PromptTemplate(\n",
    "    input_variables=[\"chunk\"],\n",
    "    template=\"\"\"\n",
    "You are an expert in analyzing raw logs and unstructured text. Your task is to extract **all IP addresses (IPv4 and IPv6)** and the **exact timestamp** associated with each IP.\n",
    "\n",
    "Instructions:\n",
    "1. From the text below, find all valid IPv4 and IPv6 addresses.\n",
    "2. For each IP address, find the **full date and time** (timestamp) that appears **closest and most directly associated** with that IP.\n",
    "3. Return only the IP address and its timestamp in this exact format: `IP_ADDRESS - TIMESTAMP`\n",
    "4. If multiple timestamps are present near the same IP, choose the most **complete and specific one** (e.g., including date + time + timezone if possible).\n",
    "5. Each result must be on a **separate line**.\n",
    "6. Do NOT include any explanation, markdown, bullet points, or extra formatting.\n",
    "\n",
    "Text:\n",
    "{chunk}\n",
    "\"\"\"\n",
    ")\n",
    "\n",
    "chain = prompt | llm"
   ]
  },
  {
   "cell_type": "code",
   "execution_count": 26,
   "id": "32d1b94e",
   "metadata": {},
   "outputs": [],
   "source": [
    "# %% Função para ler PDF\n",
    "def read_pdf_text(path: str) -> str:\n",
    "    with fitz.open(path) as doc:\n",
    "        return \"\".join(page.get_text() for page in doc)"
   ]
  },
  {
   "cell_type": "code",
   "execution_count": 27,
   "id": "30e00c31",
   "metadata": {},
   "outputs": [],
   "source": [
    "# %% Dividir texto em chunks\n",
    "def split_text(text: str, chunk_size: int = 1000, chunk_overlap: int = 100) -> list[str]:\n",
    "    splitter = RecursiveCharacterTextSplitter(chunk_size=chunk_size, chunk_overlap=chunk_overlap)\n",
    "    return splitter.split_text(text)"
   ]
  },
  {
   "cell_type": "code",
   "execution_count": 28,
   "id": "05f35455",
   "metadata": {},
   "outputs": [],
   "source": [
    "# %% Invocar modelo para cada chunk\n",
    "def extract_ips_with_time(chunk: str) -> str:\n",
    "    return chain.invoke({\"chunk\": chunk})"
   ]
  },
  {
   "cell_type": "code",
   "execution_count": 29,
   "id": "55c78630",
   "metadata": {},
   "outputs": [],
   "source": [
    "# %% Extrair pares IP - horário diretamente\n",
    "def extract_ip_timestamp_pairs_from_pdf(pdf_path: str) -> list[str]:\n",
    "    text = read_pdf_text(pdf_path)\n",
    "    chunks = split_text(text)\n",
    "    extracted_pairs = []\n",
    "\n",
    "    for chunk in chunks:\n",
    "        response = extract_ips_with_time(chunk)\n",
    "        # Filtra apenas linhas válidas com padrão esperado\n",
    "        lines = response.strip().splitlines()\n",
    "        for line in lines:\n",
    "            if \" - \" in line:\n",
    "                extracted_pairs.append(line.strip())\n",
    "\n",
    "    return extracted_pairs\n",
    "\n",
    "# %% Limpar e separar por versão de IP\n",
    "import re"
   ]
  },
  {
   "cell_type": "code",
   "execution_count": 30,
   "id": "b21cf04c",
   "metadata": {},
   "outputs": [],
   "source": [
    "def clean_and_split_ips(pairs: list[str]) -> tuple[list[str], list[str], list[str]]:\n",
    "    ipv4_pattern = r'\\b(?:\\d{1,3}\\.){3}\\d{1,3}\\b'\n",
    "    ipv6_pattern = r'\\b(?:[a-fA-F0-9]{1,4}:){1,7}[a-fA-F0-9]{1,4}\\b'\n",
    "\n",
    "    ipv4_list = []\n",
    "    ipv6_list = []\n",
    "    all_list = []\n",
    "\n",
    "    for pair in pairs:\n",
    "        ip_part = pair.split(\" - \")[0]\n",
    "        if re.match(ipv4_pattern, ip_part):\n",
    "            ipv4_list.append(pair)\n",
    "        elif re.match(ipv6_pattern, ip_part):\n",
    "            ipv6_list.append(pair)\n",
    "        all_list.append(pair)\n",
    "\n",
    "    return sorted(ipv4_list), sorted(ipv6_list), sorted(all_list)"
   ]
  },
  {
   "cell_type": "code",
   "execution_count": null,
   "id": "065b97fb",
   "metadata": {},
   "outputs": [
    {
     "ename": "AttributeError",
     "evalue": "'AIMessage' object has no attribute 'strip'",
     "output_type": "error",
     "traceback": [
      "\u001b[31m---------------------------------------------------------------------------\u001b[39m",
      "\u001b[31mAttributeError\u001b[39m                            Traceback (most recent call last)",
      "\u001b[36mCell\u001b[39m\u001b[36m \u001b[39m\u001b[32mIn[89]\u001b[39m\u001b[32m, line 5\u001b[39m\n\u001b[32m      2\u001b[39m pdf_path = \u001b[33m\"\u001b[39m\u001b[33mmodelo operadora3.pdf\u001b[39m\u001b[33m\"\u001b[39m\n\u001b[32m      4\u001b[39m \u001b[38;5;66;03m# %% Extrair pares IP - horário\u001b[39;00m\n\u001b[32m----> \u001b[39m\u001b[32m5\u001b[39m ip_timestamp_pairs = \u001b[43mextract_ip_timestamp_pairs_from_pdf\u001b[49m\u001b[43m(\u001b[49m\u001b[43mpdf_path\u001b[49m\u001b[43m)\u001b[49m\n\u001b[32m      7\u001b[39m \u001b[38;5;66;03m# %% Classificar por tipo de IP\u001b[39;00m\n\u001b[32m      8\u001b[39m ipv4_pairs, ipv6_pairs, all_pairs = clean_and_split_ips(ip_timestamp_pairs)\n",
      "\u001b[36mCell\u001b[39m\u001b[36m \u001b[39m\u001b[32mIn[87]\u001b[39m\u001b[32m, line 10\u001b[39m, in \u001b[36mextract_ip_timestamp_pairs_from_pdf\u001b[39m\u001b[34m(pdf_path)\u001b[39m\n\u001b[32m      8\u001b[39m response = extract_ips_with_time(chunk)\n\u001b[32m      9\u001b[39m \u001b[38;5;66;03m# Filtra apenas linhas válidas com padrão esperado\u001b[39;00m\n\u001b[32m---> \u001b[39m\u001b[32m10\u001b[39m lines = \u001b[43mresponse\u001b[49m\u001b[43m.\u001b[49m\u001b[43mstrip\u001b[49m().splitlines()\n\u001b[32m     11\u001b[39m \u001b[38;5;28;01mfor\u001b[39;00m line \u001b[38;5;129;01min\u001b[39;00m lines:\n\u001b[32m     12\u001b[39m     \u001b[38;5;28;01mif\u001b[39;00m \u001b[33m\"\u001b[39m\u001b[33m - \u001b[39m\u001b[33m\"\u001b[39m \u001b[38;5;129;01min\u001b[39;00m line:\n",
      "\u001b[36mFile \u001b[39m\u001b[32mc:\\Users\\Prady\\OneDrive - Insper - Institudo de Ensino e Pesquisa\\Documents\\investiga_ai\\investiga_ia\\Lib\\site-packages\\pydantic\\main.py:994\u001b[39m, in \u001b[36mBaseModel.__getattr__\u001b[39m\u001b[34m(self, item)\u001b[39m\n\u001b[32m    991\u001b[39m     \u001b[38;5;28;01mreturn\u001b[39;00m \u001b[38;5;28msuper\u001b[39m().\u001b[34m__getattribute__\u001b[39m(item)  \u001b[38;5;66;03m# Raises AttributeError if appropriate\u001b[39;00m\n\u001b[32m    992\u001b[39m \u001b[38;5;28;01melse\u001b[39;00m:\n\u001b[32m    993\u001b[39m     \u001b[38;5;66;03m# this is the current error\u001b[39;00m\n\u001b[32m--> \u001b[39m\u001b[32m994\u001b[39m     \u001b[38;5;28;01mraise\u001b[39;00m \u001b[38;5;167;01mAttributeError\u001b[39;00m(\u001b[33mf\u001b[39m\u001b[33m'\u001b[39m\u001b[38;5;132;01m{\u001b[39;00m\u001b[38;5;28mtype\u001b[39m(\u001b[38;5;28mself\u001b[39m).\u001b[34m__name__\u001b[39m\u001b[38;5;132;01m!r}\u001b[39;00m\u001b[33m object has no attribute \u001b[39m\u001b[38;5;132;01m{\u001b[39;00mitem\u001b[38;5;132;01m!r}\u001b[39;00m\u001b[33m'\u001b[39m)\n",
      "\u001b[31mAttributeError\u001b[39m: 'AIMessage' object has no attribute 'strip'"
     ]
    }
   ],
   "source": [
    "# %% Caminho do PDF\n",
    "pdf_path = \"modelo operadora3.pdf\"\n",
    "\n",
    "# %% Extrair pares IP - horário\n",
    "ip_timestamp_pairs = extract_ip_timestamp_pairs_from_pdf(pdf_path)\n",
    "\n",
    "# %% Classificar por tipo de IP\n",
    "ipv4_pairs, ipv6_pairs, all_pairs = clean_and_split_ips(ip_timestamp_pairs)\n",
    "\n",
    "# %% Exibir resultados organizados\n",
    "print(\"\\n--- IPv4 ---\")\n",
    "for item in ipv4_pairs:\n",
    "    print(item)\n",
    "\n",
    "print(\"\\n--- IPv6 ---\")\n",
    "for item in ipv6_pairs:\n",
    "    print(item)\n",
    "\n",
    "print(\"\\n--- Todos ---\")\n",
    "for item in all_pairs:\n",
    "    print(item)\n"
   ]
  },
  {
   "cell_type": "code",
   "execution_count": 63,
   "id": "6c2b82a9",
   "metadata": {},
   "outputs": [
    {
     "data": {
      "text/plain": [
       "['1101:11:11a:0a111:0:a11:aa11 - 2011-02-11 02:06:55 UTC',\n",
       " '1101:11:11a:0a111:0:a11:aa11 - 2011-02-11 02:22:00 UTC',\n",
       " '1101:11:11a:0a111:0:a11:aa11 - 2011-02-11 02:27:55 UTC',\n",
       " '1101:11:11a:0a111:0:a11:aa11 - 2011-02-11 02:32:11 UTC',\n",
       " '1101:11:11a:0a111:0:a11:aa11 - 2011-02-11 02:38:38 UTC',\n",
       " '1101:11:11a:0a111:0:a11:aa11 - 2011-02-11 02:47:31 UTC',\n",
       " '1101:11:11a:0a111:0:a11:aa11 - 2011-02-11 02:50:55 UTC',\n",
       " '1101:11:11a:0a111:0:a11:aa11 - 2011-02-11 02:55:45 UTC']"
      ]
     },
     "execution_count": 63,
     "metadata": {},
     "output_type": "execute_result"
    }
   ],
   "source": [
    "all_pairs"
   ]
  },
  {
   "cell_type": "code",
   "execution_count": 65,
   "id": "ea20dcb7",
   "metadata": {},
   "outputs": [
    {
     "data": {
      "text/plain": [
       "['192.168.1.1 - 2022-03-01 15:47:23',\n",
       " '192.168.1.1 - 2022-03-01 15:49:56',\n",
       " '2222:011a:1b11:11cd:e1f1:g111:hh11:0ij1 - 01/01/11 14:35:45 UTC',\n",
       " '2222:011a:1b11:11cd:e1f1:g111:hh11:0ij1 - 01/01/11 14:35:45 UTC',\n",
       " '222:011a:1b11:11cd:e1f1:g111:hh11:0ij1 - 01/01/11 14:35:45 UTC',\n",
       " '2a02:2b8::1113 - 2022-03-01 16:12:37',\n",
       " '2a02:2b8::1113 - 2022-03-01 16:14:45']"
      ]
     },
     "execution_count": 67,
     "metadata": {},
     "output_type": "execute_result"
    }
   ],
   "source": [
    "all_pairs_1 = all_pairs.copy()\n",
    "all_pairs_1"
   ]
  },
  {
   "cell_type": "code",
   "execution_count": null,
   "id": "f215e6ae",
   "metadata": {},
   "outputs": [
    {
     "data": {
      "text/plain": [
       "['1101:11:11a:0a111:0:a11:aa11 - 2011-02-11 02:06:55 UTC',\n",
       " '1101:11:11a:0a111:0:a11:aa11 - 2011-02-11 02:22:00 UTC',\n",
       " '1101:11:11a:0a111:0:a11:aa11 - 2011-02-11 02:27:55 UTC',\n",
       " '1101:11:11a:0a111:0:a11:aa11 - 2011-02-11 02:32:11 UTC',\n",
       " '1101:11:11a:0a111:0:a11:aa11 - 2011-02-11 02:38:38 UTC',\n",
       " '1101:11:11a:0a111:0:a11:aa11 - 2011-02-11 02:47:31 UTC',\n",
       " '1101:11:11a:0a111:0:a11:aa11 - 2011-02-11 02:50:55 UTC',\n",
       " '1101:11:11a:0a111:0:a11:aa11 - 2011-02-11 02:55:45 UTC']"
      ]
     },
     "execution_count": 69,
     "metadata": {},
     "output_type": "execute_result"
    }
   ],
   "source": [
    "all_pairs_2 = all_pairs.copy()\n",
    "all_pairs_2"
   ]
  },
  {
   "cell_type": "code",
   "execution_count": 56,
   "id": "8bbfd1de",
   "metadata": {},
   "outputs": [],
   "source": [
    "def extract_unique_ip_timestamp_pairs(raw_list: list[str]) -> pd.DataFrame:\n",
    "    pattern = r\"(?P<ip>(?:\\d{1,3}\\.){3}\\d{1,3}|(?:[a-fA-F0-9:]{2,39}))\\s*-\\s*(?P<timestamp>.+)\"\n",
    "    matches = re.finditer(pattern, \"\\n\".join(raw_list))\n",
    "\n",
    "    data = set()\n",
    "    for match in matches:\n",
    "        ip = match.group(\"ip\").strip()\n",
    "        timestamp = match.group(\"timestamp\").strip()\n",
    "        data.add((ip, timestamp))\n",
    "\n",
    "    df = pd.DataFrame(list(data), columns=[\"ip\", \"timestamp\"])\n",
    "    return df"
   ]
  },
  {
   "cell_type": "code",
   "execution_count": 60,
   "id": "72f02f04",
   "metadata": {},
   "outputs": [
    {
     "name": "stdout",
     "output_type": "stream",
     "text": [
      "                                       ip  \\\n",
      "0                                    2020   \n",
      "1                            111.11.111.1   \n",
      "2                           111.11.111.11   \n",
      "3  1111:11d:1e11:11bc:bc11:1111:11ba:4e11   \n",
      "\n",
      "                                           timestamp  \n",
      "0  01-01 00:00:00 UTC - No responsive records loc...  \n",
      "1                            2000-01-11 01:01:01 UTC  \n",
      "2                            2000-01-11 01:01:01 UTC  \n",
      "3                             2000-01-11 01:01:01UTC  \n"
     ]
    }
   ],
   "source": [
    "df_ips = extract_unique_ip_timestamp_pairs(all_pairs)\n",
    "df_ips.drop_duplicates(subset=\"ip\", keep=\"first\", inplace=True)\n",
    "print(df_ips)"
   ]
  },
  {
   "cell_type": "code",
   "execution_count": null,
   "id": "e034fa8c",
   "metadata": {},
   "outputs": [],
   "source": [
    "df_mod_3 = df_ips.copy()"
   ]
  },
  {
   "cell_type": "code",
   "execution_count": 47,
   "id": "fb781c46",
   "metadata": {},
   "outputs": [
    {
     "data": {
      "text/html": [
       "<div>\n",
       "<style scoped>\n",
       "    .dataframe tbody tr th:only-of-type {\n",
       "        vertical-align: middle;\n",
       "    }\n",
       "\n",
       "    .dataframe tbody tr th {\n",
       "        vertical-align: top;\n",
       "    }\n",
       "\n",
       "    .dataframe thead th {\n",
       "        text-align: right;\n",
       "    }\n",
       "</style>\n",
       "<table border=\"1\" class=\"dataframe\">\n",
       "  <thead>\n",
       "    <tr style=\"text-align: right;\">\n",
       "      <th></th>\n",
       "      <th>ip</th>\n",
       "      <th>timestamp</th>\n",
       "    </tr>\n",
       "  </thead>\n",
       "  <tbody>\n",
       "    <tr>\n",
       "      <th>0</th>\n",
       "      <td>1111:11d:1e11:11bc:bc11:1111:11ba:4e11</td>\n",
       "      <td>2000-01-11 01:01:01UTC</td>\n",
       "    </tr>\n",
       "    <tr>\n",
       "      <th>1</th>\n",
       "      <td>111.11.111.1</td>\n",
       "      <td>2000-01-11 01:01:01 UTC</td>\n",
       "    </tr>\n",
       "    <tr>\n",
       "      <th>2</th>\n",
       "      <td>111.11.111.11</td>\n",
       "      <td>2000-01-11 01:01:01 UTC</td>\n",
       "    </tr>\n",
       "  </tbody>\n",
       "</table>\n",
       "</div>"
      ],
      "text/plain": [
       "                                       ip                timestamp\n",
       "0  1111:11d:1e11:11bc:bc11:1111:11ba:4e11   2000-01-11 01:01:01UTC\n",
       "1                            111.11.111.1  2000-01-11 01:01:01 UTC\n",
       "2                           111.11.111.11  2000-01-11 01:01:01 UTC"
      ]
     },
     "execution_count": 47,
     "metadata": {},
     "output_type": "execute_result"
    }
   ],
   "source": [
    "df_mod_3"
   ]
  },
  {
   "cell_type": "code",
   "execution_count": 61,
   "id": "187268d9",
   "metadata": {},
   "outputs": [],
   "source": [
    "df_mod2 = df_ips.copy()\n"
   ]
  },
  {
   "cell_type": "code",
   "execution_count": 62,
   "id": "dfd07c67",
   "metadata": {},
   "outputs": [
    {
     "data": {
      "text/html": [
       "<div>\n",
       "<style scoped>\n",
       "    .dataframe tbody tr th:only-of-type {\n",
       "        vertical-align: middle;\n",
       "    }\n",
       "\n",
       "    .dataframe tbody tr th {\n",
       "        vertical-align: top;\n",
       "    }\n",
       "\n",
       "    .dataframe thead th {\n",
       "        text-align: right;\n",
       "    }\n",
       "</style>\n",
       "<table border=\"1\" class=\"dataframe\">\n",
       "  <thead>\n",
       "    <tr style=\"text-align: right;\">\n",
       "      <th></th>\n",
       "      <th>ip</th>\n",
       "      <th>timestamp</th>\n",
       "    </tr>\n",
       "  </thead>\n",
       "  <tbody>\n",
       "    <tr>\n",
       "      <th>0</th>\n",
       "      <td>1101:11:11a:0a111:0:a11:aa11</td>\n",
       "      <td>2011-02-11 02:47:31 UTC</td>\n",
       "    </tr>\n",
       "  </tbody>\n",
       "</table>\n",
       "</div>"
      ],
      "text/plain": [
       "                             ip                timestamp\n",
       "0  1101:11:11a:0a111:0:a11:aa11  2011-02-11 02:47:31 UTC"
      ]
     },
     "execution_count": 62,
     "metadata": {},
     "output_type": "execute_result"
    }
   ],
   "source": [
    "df_mod2"
   ]
  },
  {
   "cell_type": "code",
   "execution_count": 58,
   "id": "004b8aa0",
   "metadata": {},
   "outputs": [
    {
     "data": {
      "text/html": [
       "<div>\n",
       "<style scoped>\n",
       "    .dataframe tbody tr th:only-of-type {\n",
       "        vertical-align: middle;\n",
       "    }\n",
       "\n",
       "    .dataframe tbody tr th {\n",
       "        vertical-align: top;\n",
       "    }\n",
       "\n",
       "    .dataframe thead th {\n",
       "        text-align: right;\n",
       "    }\n",
       "</style>\n",
       "<table border=\"1\" class=\"dataframe\">\n",
       "  <thead>\n",
       "    <tr style=\"text-align: right;\">\n",
       "      <th></th>\n",
       "      <th>ip</th>\n",
       "      <th>timestamp</th>\n",
       "    </tr>\n",
       "  </thead>\n",
       "  <tbody>\n",
       "    <tr>\n",
       "      <th>0</th>\n",
       "      <td>192.168.1.1</td>\n",
       "      <td>2022-03-01 15:47:23</td>\n",
       "    </tr>\n",
       "    <tr>\n",
       "      <th>1</th>\n",
       "      <td>2a02:2b8::1113</td>\n",
       "      <td>2022-03-01 16:12:37</td>\n",
       "    </tr>\n",
       "  </tbody>\n",
       "</table>\n",
       "</div>"
      ],
      "text/plain": [
       "               ip            timestamp\n",
       "0     192.168.1.1  2022-03-01 15:47:23\n",
       "1  2a02:2b8::1113  2022-03-01 16:12:37"
      ]
     },
     "execution_count": 58,
     "metadata": {},
     "output_type": "execute_result"
    }
   ],
   "source": [
    "df_mod_1 = df_ips.copy()\n",
    "df_mod_1"
   ]
  },
  {
   "cell_type": "code",
   "execution_count": null,
   "id": "4e23c130",
   "metadata": {},
   "outputs": [],
   "source": []
  }
 ],
 "metadata": {
  "kernelspec": {
   "display_name": "investiga_ia",
   "language": "python",
   "name": "python3"
  },
  "language_info": {
   "codemirror_mode": {
    "name": "ipython",
    "version": 3
   },
   "file_extension": ".py",
   "mimetype": "text/x-python",
   "name": "python",
   "nbconvert_exporter": "python",
   "pygments_lexer": "ipython3",
   "version": "3.11.9"
  }
 },
 "nbformat": 4,
 "nbformat_minor": 5
}
